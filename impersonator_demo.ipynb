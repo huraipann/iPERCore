{
  "nbformat": 4,
  "nbformat_minor": 0,
  "metadata": {
    "accelerator": "GPU",
    "colab": {
      "name": "impersonator_demo",
      "provenance": [],
      "collapsed_sections": [],
      "include_colab_link": true
    },
    "kernelspec": {
      "display_name": "Python 3",
      "name": "python3"
    }
  },
  "cells": [
    {
      "cell_type": "markdown",
      "metadata": {
        "id": "view-in-github",
        "colab_type": "text"
      },
      "source": [
        "<a href=\"https://colab.research.google.com/github/cedro3/iPERCore/blob/main/impersonator_demo.ipynb\" target=\"_parent\"><img src=\"https://colab.research.google.com/assets/colab-badge.svg\" alt=\"Open In Colab\"/></a>"
      ]
    },
    {
      "cell_type": "markdown",
      "metadata": {
        "id": "rTjLpNgipXPR"
      },
      "source": [
        "# セットアップ"
      ]
    },
    {
      "cell_type": "code",
      "metadata": {
        "id": "3vPl00TgplS-"
      },
      "source": [
        "# ffmpegインストール\n",
        "!apt-get install ffmpeg\n",
        "\n",
        "# CUDAセッティング\n",
        "import os\n",
        "os.environ[\"CUDA_HOME\"] = \"/usr/local/cuda-10.1\"\n",
        "!echo $CUDA_HOME\n",
        "\n",
        "# githubからコードをコピー\n",
        "!git clone https://github.com/cedro3/iPERCore.git\n",
        "%cd /content/iPERCore/\n",
        "\n",
        "# セットアッププログラムの実行\n",
        "!python setup.py develop\n",
        "\n",
        "# 重みのダウンロード\n",
        "! pip install --upgrade gdown\n",
        "import gdown\n",
        "gdown.download('https://drive.google.com/uc?id=1jpp_KytMplNNFA_IJSzzSWhvyqIdmnJv', 'assets/checkpoints.zip', quiet=False)\n",
        "!unzip -o assets/checkpoints.zip -d assets/\n",
        "!rm assets/checkpoints.zip\n",
        "\n",
        "# サンプルのダウンロード\n",
        "!wget -O assets/samples.zip  \"https://download.impersonator.org/iper_plus_plus_latest_samples.zip\"\n",
        "!unzip -o assets/samples.zip -d  assets\n",
        "!rm assets/samples.zip\n",
        "\n",
        "# ディレクトリ移動\n",
        "%cd /content/iPERCore/\n",
        "\n",
        "# ライブラリーのインポート\n",
        "import os\n",
        "import os.path as osp\n",
        "import platform\n",
        "import argparse\n",
        "import time\n",
        "import sys\n",
        "import subprocess\n",
        "from IPython.display import HTML\n",
        "from base64 import b64encode\n"
      ],
      "execution_count": null,
      "outputs": []
    },
    {
      "cell_type": "markdown",
      "metadata": {
        "id": "vme5bj8xmfsC"
      },
      "source": [
        "## 初期設定"
      ]
    },
    {
      "cell_type": "code",
      "metadata": {
        "id": "QNWVyAaeOhHP"
      },
      "source": [
        "# the gpu ids\n",
        "gpu_ids = \"0\"\n",
        "\n",
        "# the image size\n",
        "image_size = 512\n",
        "\n",
        "# the default number of source images, it will be updated if the actual number of sources <= num_source\n",
        "num_source = 2\n",
        "\n",
        "# the assets directory. This is very important, please download it from `one_drive_url` firstly.\n",
        "assets_dir = \"/content/iPERCore/assets\"\n",
        "\n",
        "# the output directory.\n",
        "output_dir = \"./results\"\n",
        "\n",
        "# the model id of this case. This is a random model name.\n",
        "# model_id = \"model_\" + str(time.time())\n",
        "\n",
        "# # This is a specific model name, and it will be used if you do not change it.\n",
        "# model_id = \"axing_1\"\n",
        "\n",
        "# symlink from the actual assets directory to this current directory\n",
        "work_asserts_dir = os.path.join(\"./assets\")\n",
        "if not os.path.exists(work_asserts_dir):\n",
        "    os.symlink(osp.abspath(assets_dir), osp.abspath(work_asserts_dir),\n",
        "               target_is_directory=(platform.system() == \"Windows\"))\n",
        "\n",
        "cfg_path = osp.join(work_asserts_dir, \"configs\", \"deploy.toml\")\n"
      ],
      "execution_count": null,
      "outputs": []
    },
    {
      "cell_type": "markdown",
      "metadata": {
        "id": "RGKRtrNgZ14V"
      },
      "source": [
        "# 1.ソースが正面1枚の場合の変換\n"
      ]
    },
    {
      "cell_type": "code",
      "metadata": {
        "id": "9mcgrtu1qkFL"
      },
      "source": [
        "# This is a specific model name, and it will be used if you do not change it. This is the case of `trump`\n",
        "model_id = \"donald_trump_2\"\n",
        "\n",
        "# the source input information, here \\\" is escape character of double duote \"\n",
        "src_path = \"\\\"path?=/content/iPERCore/assets/samples/sources/donald_trump_2/00000.PNG,name?=donald_trump_2\\\"\"\n",
        "\n",
        "ref_path = \"\\\"path?=/content/iPERCore/assets/samples/references/akun_1.mp4,\"  \\\n",
        "             \"name?=akun_1,\" \\\n",
        "             \"pose_fc?=300\\\"\"\n",
        "\n",
        "print(ref_path)\n",
        "\n",
        "!python -m iPERCore.services.run_imitator  \\\n",
        "  --gpu_ids     $gpu_ids       \\\n",
        "  --num_source  $num_source    \\\n",
        "  --image_size  $image_size    \\\n",
        "  --output_dir  $output_dir    \\\n",
        "  --model_id    $model_id      \\\n",
        "  --cfg_path    $cfg_path      \\\n",
        "  --src_path    $src_path      \\\n",
        "  --ref_path    $ref_path"
      ],
      "execution_count": null,
      "outputs": []
    },
    {
      "cell_type": "code",
      "metadata": {
        "id": "xUaUmeJbrtOC"
      },
      "source": [
        "mp4 = open(\"./results/primitives/donald_trump_2/synthesis/imitations/donald_trump_2-akun_1.mp4\", \"rb\").read()\n",
        "data_url = \"data:video/mp4;base64,\" + b64encode(mp4).decode()\n",
        "HTML(f\"\"\"\n",
        "<video width=\"100%\" height=\"100%\" controls>\n",
        "      <source src=\"{data_url}\" type=\"video/mp4\">\n",
        "</video>\"\"\")"
      ],
      "execution_count": null,
      "outputs": []
    },
    {
      "cell_type": "markdown",
      "metadata": {
        "id": "l7PZuUISa3S-"
      },
      "source": [
        "# 2.ソースが正面＋背面の場合の変換\n",
        "基本的に1.ソースが正面のみの場合と同じです。ソースのフォルダー内に、正面＋背面の画像を2つ入れて置くだけです。ソートした時に、正面の画像名が背面の画像名より先に来るようにして下さい。"
      ]
    },
    {
      "cell_type": "code",
      "metadata": {
        "id": "8ZAAoSX1zM3b"
      },
      "source": [
        "# This is a specific model name, and it will be used if you do not change it. This is the case of `trump`\n",
        "model_id = \"axing_1\"\n",
        "\n",
        "# the source input information, here \\\" is escape character of double duote \"\n",
        "src_path = \"\\\"path?=/content/iPERCore/assets/samples/sources/axing_1,name?=axing_1\\\"\"\n",
        "\n",
        "\n",
        "## the reference input information. There are three reference videos in this case.\n",
        "# here \\\" is escape character of double duote \"\n",
        "ref_path = \"\\\"path?=/content/iPERCore/assets/samples/references/dance01.mp4,\" \\\n",
        "             \"name?=dance01,\" \\\n",
        "             \"pose_fc?=300\\\"\"\n",
        "\n",
        "print(ref_path)\n",
        "\n",
        "!python -m iPERCore.services.run_imitator  \\\n",
        "  --gpu_ids     $gpu_ids       \\\n",
        "  --num_source  $num_source    \\\n",
        "  --image_size  $image_size    \\\n",
        "  --output_dir  $output_dir    \\\n",
        "  --model_id    $model_id      \\\n",
        "  --cfg_path    $cfg_path      \\\n",
        "  --src_path    $src_path      \\\n",
        "  --ref_path    $ref_path"
      ],
      "execution_count": null,
      "outputs": []
    },
    {
      "cell_type": "code",
      "metadata": {
        "id": "0zzxmdsvzz_o"
      },
      "source": [
        "mp4 = open(\"./results/primitives/axing_1/synthesis/imitations/axing_1-dance01.mp4\", \"rb\").read()\n",
        "data_url = \"data:video/mp4;base64,\" + b64encode(mp4).decode()\n",
        "HTML(f\"\"\"\n",
        "<video width=\"100%\" height=\"100%\" controls>\n",
        "      <source src=\"{data_url}\" type=\"video/mp4\">\n",
        "</video>\"\"\")"
      ],
      "execution_count": null,
      "outputs": []
    },
    {
      "cell_type": "markdown",
      "metadata": {
        "id": "whXMlWjKB_3_"
      },
      "source": [
        "# ソースが正面＋背面＋背景の場合の変換\n",
        "\"bg_path?=\"で背景の画像を指定します。"
      ]
    },
    {
      "cell_type": "code",
      "metadata": {
        "id": "qWogPZL9-Our"
      },
      "source": [
        "# This is a specific model name, and it will be used if you do not change it. This is the case of `trump`\n",
        "model_id = \"afan_6=ns=2\"\n",
        "\n",
        "# the source input information, here \\\" is escape character of double duote \"\n",
        "src_path = \"\\\"path?=/content/iPERCore/assets/samples/sources/afan_6/afan_6=ns=2,\" \\\n",
        "             \"name?=afan_6=ns=2,\" \\\n",
        "             \"bg_path?=/content/iPERCore/assets/samples/sources/afan_6/IMG_7217.JPG\\\"\"\n",
        "\n",
        "## the reference input information. There are three reference videos in this case.\n",
        "# here \\\" is escape character of double duote \"\n",
        "ref_path = \"\\\"path?=/content/iPERCore/assets/samples/references/dance02.mp4,\" \\\n",
        "             \"name?=dance02,\" \\\n",
        "             \"pose_fc?=300\\\"\"\n",
        "\n",
        "print(ref_path)\n",
        "\n",
        "!python -m iPERCore.services.run_imitator  \\\n",
        "  --gpu_ids     $gpu_ids       \\\n",
        "  --num_source  $num_source    \\\n",
        "  --image_size  $image_size    \\\n",
        "  --output_dir  $output_dir    \\\n",
        "  --model_id    $model_id      \\\n",
        "  --cfg_path    $cfg_path      \\\n",
        "  --src_path    $src_path      \\\n",
        "  --ref_path    $ref_path"
      ],
      "execution_count": null,
      "outputs": []
    },
    {
      "cell_type": "code",
      "metadata": {
        "id": "DiDWJR9I-Q0Q"
      },
      "source": [
        "mp4 = open(\"./results/primitives/afan_6=ns=2/synthesis/imitations/afan_6=ns=2-dance02.mp4\", \"rb\").read()\n",
        "data_url = \"data:video/mp4;base64,\" + b64encode(mp4).decode()\n",
        "HTML(f\"\"\"\n",
        "<video width=\"100%\" height=\"100%\" controls>\n",
        "      <source src=\"{data_url}\" type=\"video/mp4\">\n",
        "</video>\"\"\")"
      ],
      "execution_count": null,
      "outputs": []
    }
  ]
}